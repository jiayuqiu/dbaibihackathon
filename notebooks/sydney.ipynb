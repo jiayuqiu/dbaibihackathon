{
 "cells": [
  {
   "cell_type": "code",
   "execution_count": 0,
   "metadata": {
    "application/vnd.databricks.v1+cell": {
     "cellMetadata": {
      "byteLimit": 2048000,
      "rowLimit": 10000
     },
     "inputWidgets": {},
     "nuid": "48cc6975-4956-40c0-be1f-d9f3987db410",
     "showTitle": false,
     "tableResultSettingsMap": {},
     "title": ""
    }
   },
   "outputs": [],
   "source": [
    "import pandas as pd\n",
    "import requests\n",
    "import os\n",
    "\n",
    "DATA_PATH = \"/Volumes/workspace/hackathon/data/\"\n",
    "GEO_JSON_FN = \"sydney.geojson\"\n",
    "POSTCODES_CSV_FN = \"australian_postcodes.csv\"\n",
    "\n",
    "# Download sydney geojson\n",
    "geo_json_path = os.path.join(DATA_PATH, GEO_JSON_FN)\n",
    "if not os.path.exists(geo_json_path):\n",
    "    geo_url = \"https://raw.githubusercontent.com/codeforamerica/click_that_hood/master/public/data/sydney.geojson\"\n",
    "    response = requests.get(geo_url)\n",
    "    with open(os.path.join(DATA_PATH, GEO_JSON_FN), \"w\") as f:\n",
    "        f.write(response.text)\n",
    "    print(\"GEO written.\")\n"
   ]
  },
  {
   "cell_type": "code",
   "execution_count": 0,
   "metadata": {
    "application/vnd.databricks.v1+cell": {
     "cellMetadata": {
      "byteLimit": 2048000,
      "rowLimit": 10000
     },
     "inputWidgets": {},
     "nuid": "8a1e7ce1-fe39-4f67-82fa-a49cc774f129",
     "showTitle": false,
     "tableResultSettingsMap": {},
     "title": ""
    }
   },
   "outputs": [],
   "source": [
    "import json\n",
    "# Load GeoJSON\n",
    "with open(\"/Volumes/workspace/hackathon/data/sydney.geojson\") as f:\n",
    "    geojson = json.load(f)\n",
    "\n",
    "# print(type(geojson))\n",
    "# for feat in geojson[\"features\"]:\n",
    "#     print(feat)"
   ]
  },
  {
   "cell_type": "code",
   "execution_count": 0,
   "metadata": {
    "application/vnd.databricks.v1+cell": {
     "cellMetadata": {
      "byteLimit": 2048000,
      "rowLimit": 10000
     },
     "inputWidgets": {},
     "nuid": "82b8a5cf-6d95-4b80-aa84-ee533e28794f",
     "showTitle": false,
     "tableResultSettingsMap": {},
     "title": ""
    }
   },
   "outputs": [],
   "source": [
    "# load suburb data\n",
    "# filter: 1001 to 4385 is NSW\n",
    "suburb_df = pd.read_csv(os.path.join(DATA_PATH, POSTCODES_CSV_FN))\n",
    "nsw_suburb_df = suburb_df.loc[(suburb_df[\"postcode\"]>=1001)&(suburb_df[\"postcode\"]<=4385)]"
   ]
  },
  {
   "cell_type": "code",
   "execution_count": 0,
   "metadata": {
    "application/vnd.databricks.v1+cell": {
     "cellMetadata": {
      "byteLimit": 2048000,
      "rowLimit": 10000
     },
     "inputWidgets": {},
     "nuid": "7bce6e9b-e140-4915-94dc-c0c3a14191f8",
     "showTitle": false,
     "tableResultSettingsMap": {},
     "title": ""
    }
   },
   "outputs": [],
   "source": [
    "import plotly.express as px\n",
    "import pandas as pd\n",
    "\n",
    "# generate dummy data\n",
    "# dummy data: comes from chatgpt - make some dummy value and plot on the map\n",
    "data = {\n",
    "    \"postcode\": [\"2000\", \"2001\", \"2007\", \"2010\", \"2020\"],\n",
    "    \"value\": [12000, 8000, 15000, 9000, 11000]\n",
    "}\n",
    "df = pd.DataFrame(data)\n",
    "\n",
    "# Ensure both postcode columns are of the same type\n",
    "df['postcode'] = df['postcode'].astype(int)\n",
    "nsw_suburb_df['postcode'] = nsw_suburb_df['postcode'].astype(int)\n",
    "\n",
    "# Merge data with locality information\n",
    "# merged_df = df.merge(nsw_suburb_df.loc[:, ['postcode', 'locality']], on='postcode', how='left')\n",
    "merged_df = pd.merge(\n",
    "    left=df\n",
    "    ,right=nsw_suburb_df.loc[:, [\"postcode\", \"locality\"]]\n",
    "    ,on=\"postcode\"\n",
    "    ,how=\"left\"\n",
    ")\n",
    "\n",
    "\n",
    "# # Check the properties to match postcodes\n",
    "# print(geojson['features'][0]['properties'])  # usually has 'name' or 'postcode'\n",
    "\n",
    "display(merged_df)\n"
   ]
  },
  {
   "cell_type": "code",
   "execution_count": 0,
   "metadata": {
    "application/vnd.databricks.v1+cell": {
     "cellMetadata": {},
     "inputWidgets": {},
     "nuid": "fb7c0e36-7557-4771-b964-6b3660be6d9a",
     "showTitle": false,
     "tableResultSettingsMap": {},
     "title": ""
    }
   },
   "outputs": [],
   "source": [
    "fig = px.choropleth(\n",
    "    df,\n",
    "    geojson=geojson,\n",
    "    locations=\"postcode\",\n",
    "    color=\"population\",\n",
    "    color_continuous_scale=\"Viridis\",\n",
    "    title=\"Sydney Population by Postcode\"\n",
    ")\n",
    "\n",
    "fig.update_geos(fitbounds=\"locations\", visible=False)\n",
    "fig.update_layout(height=600, margin={\"r\":0,\"t\":30,\"l\":0,\"b\":0})\n",
    "fig.show()"
   ]
  }
 ],
 "metadata": {
  "application/vnd.databricks.v1+notebook": {
   "computePreferences": null,
   "dashboards": [],
   "environmentMetadata": {
    "base_environment": "",
    "environment_version": "2"
   },
   "inputWidgetPreferences": null,
   "language": "python",
   "notebookMetadata": {
    "pythonIndentUnit": 4
   },
   "notebookName": "sydney",
   "widgets": {}
  },
  "language_info": {
   "name": "python"
  }
 },
 "nbformat": 4,
 "nbformat_minor": 0
}
