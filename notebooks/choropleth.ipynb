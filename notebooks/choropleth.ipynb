{
 "cells": [
  {
   "cell_type": "code",
   "execution_count": null,
   "id": "b01a3a23",
   "metadata": {},
   "outputs": [],
   "source": [
    "import geopandas as gpd\n",
    "\n",
    "\n",
    "DATA_PATH = \"/mnt/d/data/hackathon/\""
   ]
  },
  {
   "cell_type": "markdown",
   "id": "39a0f9df",
   "metadata": {},
   "source": [
    "# data processing"
   ]
  },
  {
   "cell_type": "code",
   "execution_count": null,
   "id": "6afd3d32",
   "metadata": {},
   "outputs": [],
   "source": [
    "import json\n",
    "from pprint import pprint\n",
    "import pandas as pd\n",
    "\n",
    "postcode_df = pd.read_csv(os.path.join(DATA_PATH, \"australian_postcodes.csv\"))\n",
    "postcode_df.loc[:, \"locality\"] = postcode_df[\"locality\"].str.lower()\n",
    "postcode_to_locality = dict(zip(postcode_df[\"locality\"], postcode_df[\"postcode\"]))\n",
    "# print(postcode_to_locality)\n",
    "\n",
    "custom_json = json.load(open(os.path.join(DATA_PATH, \"LocalGovernmentArea_EPSG4326.json\")))\n",
    "custom_geojson = custom_json[\"LocalGovernmentArea\"]\n",
    "\n",
    "for feat in custom_geojson[\"features\"]:\n",
    "    # print(feat[\"properties\"])\n",
    "    _postcode = postcode_to_locality.get(feat[\"properties\"][\"lganame\"].lower(), None)\n",
    "    feat[\"properties\"].update({\"postcode\": _postcode})\n",
    "print(custom_geojson[\"features\"][0][\"properties\"][\"postcode\"])\n",
    "    "
   ]
  },
  {
   "cell_type": "markdown",
   "id": "d085a3d4",
   "metadata": {},
   "source": [
    "# plot"
   ]
  },
  {
   "cell_type": "code",
   "execution_count": null,
   "id": "0759bd49",
   "metadata": {},
   "outputs": [],
   "source": [
    "import plotly.express as px\n",
    "\n",
    "# Extract all LGA names from the GeoJSON features\n",
    "locations = [feature[\"properties\"][\"postcode\"] for feature in custom_geojson[\"features\"] if feature[\"properties\"][\"postcode\"]]\n",
    "\n",
    "# Create a dummy color array (replace with your own data if available)\n",
    "color = []\n",
    "for _loc in locations:\n",
    "    if _loc == 2077:\n",
    "        _color = 100\n",
    "    else:\n",
    "        _color = 1\n",
    "    color.append(_color)\n",
    "\n",
    "fig = px.choropleth_map(\n",
    "    geojson=custom_geojson,\n",
    "    locations=locations,\n",
    "    featureidkey=\"properties.postcode\",\n",
    "    color=color,\n",
    "    center={\"lat\": -33.8688, \"lon\": 151.2093},  # Center on Sydney\n",
    "    zoom=7,\n",
    "    opacity=0.5,\n",
    ")\n",
    "fig.update_layout(width=600, height=600)\n",
    "fig.show()"
   ]
  }
 ],
 "metadata": {
  "language_info": {
   "name": "python"
  }
 },
 "nbformat": 4,
 "nbformat_minor": 5
}
